{
 "cells": [
  {
   "cell_type": "code",
   "execution_count": 1,
   "metadata": {},
   "outputs": [
    {
     "name": "stdout",
     "output_type": "stream",
     "text": [
      "env: CUDA_DEVICE_ORDER=PCI_BUS_ID\n",
      "env: CUDA_VISIBLE_DEVICES=1\n"
     ]
    }
   ],
   "source": [
    "%env CUDA_DEVICE_ORDER=PCI_BUS_ID\n",
    "%env CUDA_VISIBLE_DEVICES=1"
   ]
  },
  {
   "cell_type": "code",
   "execution_count": 2,
   "metadata": {
    "collapsed": true
   },
   "outputs": [],
   "source": [
    "import pywt\n",
    "import numpy as np\n",
    "import pandas as pd\n",
    "import pickle\n",
    "import matplotlib.pyplot as plt\n",
    "from sklearn.preprocessing import RobustScaler\n",
    "import os\n",
    "from scipy import signal"
   ]
  },
  {
   "cell_type": "markdown",
   "metadata": {},
   "source": [
    "# Robust Scaler for Meta Data"
   ]
  },
  {
   "cell_type": "code",
   "execution_count": 3,
   "metadata": {
    "scrolled": true
   },
   "outputs": [
    {
     "name": "stdout",
     "output_type": "stream",
     "text": [
      "  Person No Age Gender Height  SYS DIA  HR    G  PWV   BMI BP_drug DM DM_drug  \\\n",
      "0       1_m  60      0  156.0   90  63  77  115  5.8  16.6       0  0       0   \n",
      "1       1_m  60      0  156.0   88  60  74  114  6.4  16.6       0  0       0   \n",
      "2       2_m  62      0  155.0  115  78  73  108  6.6  24.7       0  0       0   \n",
      "3       2_m  62      0  155.0  115  79  74  111  6.5  24.7       0  0       0   \n",
      "4       3_m  53      0  157.0  147  96  77  143  7.3  25.4       0  0       0   \n",
      "\n",
      "  O_drug W_cir weight       ID      Date  Time  \n",
      "0      0  61.5   40.5  001_1_m  20170302  1124  \n",
      "1      0  61.5   40.5  001_2_m  20170302  1130  \n",
      "2      0  80.0   59.4  002_1_m  20170302  1150  \n",
      "3      0  80.0   59.4  002_2_m  20170302  1154  \n",
      "4      1  83.0   62.7  003_1_m  20170302  1203  \n",
      "(2914, 19)\n"
     ]
    }
   ],
   "source": [
    "data_path = '/data/put_data/timliu/BG/'\n",
    "d = pd.read_csv(data_path + 'new_IRB_summary_1457_1020.csv', dtype = 'str')\n",
    "d = d.iloc[:, 2:]\n",
    "for index, row in d.iterrows():\n",
    "    if 'm' in row['ID']:\n",
    "        d.iloc[index, 0] = d.iloc[index, 0] + '_m'\n",
    "print(d[:5])\n",
    "print(d.shape)"
   ]
  },
  {
   "cell_type": "code",
   "execution_count": 4,
   "metadata": {},
   "outputs": [
    {
     "data": {
      "text/html": [
       "<div>\n",
       "<style>\n",
       "    .dataframe thead tr:only-child th {\n",
       "        text-align: right;\n",
       "    }\n",
       "\n",
       "    .dataframe thead th {\n",
       "        text-align: left;\n",
       "    }\n",
       "\n",
       "    .dataframe tbody tr th {\n",
       "        vertical-align: top;\n",
       "    }\n",
       "</style>\n",
       "<table border=\"1\" class=\"dataframe\">\n",
       "  <thead>\n",
       "    <tr style=\"text-align: right;\">\n",
       "      <th></th>\n",
       "      <th>Unnamed: 0</th>\n",
       "      <th>Person No</th>\n",
       "      <th>Age</th>\n",
       "      <th>Gender</th>\n",
       "      <th>Height</th>\n",
       "      <th>SYS</th>\n",
       "      <th>DIA</th>\n",
       "      <th>HR</th>\n",
       "      <th>G</th>\n",
       "      <th>PWV</th>\n",
       "      <th>BMI</th>\n",
       "      <th>BP_drug</th>\n",
       "      <th>DM</th>\n",
       "      <th>DM_drug</th>\n",
       "      <th>O_drug</th>\n",
       "      <th>W_cir</th>\n",
       "      <th>weight</th>\n",
       "      <th>ID</th>\n",
       "      <th>Date</th>\n",
       "      <th>Time</th>\n",
       "    </tr>\n",
       "  </thead>\n",
       "  <tbody>\n",
       "    <tr>\n",
       "      <th>0</th>\n",
       "      <td>1</td>\n",
       "      <td>1</td>\n",
       "      <td>60</td>\n",
       "      <td>0</td>\n",
       "      <td>156.0</td>\n",
       "      <td>90</td>\n",
       "      <td>63</td>\n",
       "      <td>77</td>\n",
       "      <td>115</td>\n",
       "      <td>5.8</td>\n",
       "      <td>16.6</td>\n",
       "      <td>0</td>\n",
       "      <td>0</td>\n",
       "      <td>0</td>\n",
       "      <td>0</td>\n",
       "      <td>61.5</td>\n",
       "      <td>40.5</td>\n",
       "      <td>001_1</td>\n",
       "      <td>20170302</td>\n",
       "      <td>1124</td>\n",
       "    </tr>\n",
       "    <tr>\n",
       "      <th>1</th>\n",
       "      <td>2</td>\n",
       "      <td>1</td>\n",
       "      <td>60</td>\n",
       "      <td>0</td>\n",
       "      <td>156.0</td>\n",
       "      <td>88</td>\n",
       "      <td>60</td>\n",
       "      <td>74</td>\n",
       "      <td>114</td>\n",
       "      <td>6.4</td>\n",
       "      <td>16.6</td>\n",
       "      <td>0</td>\n",
       "      <td>0</td>\n",
       "      <td>0</td>\n",
       "      <td>0</td>\n",
       "      <td>61.5</td>\n",
       "      <td>40.5</td>\n",
       "      <td>001_2</td>\n",
       "      <td>20170302</td>\n",
       "      <td>1130</td>\n",
       "    </tr>\n",
       "    <tr>\n",
       "      <th>2</th>\n",
       "      <td>3</td>\n",
       "      <td>2</td>\n",
       "      <td>62</td>\n",
       "      <td>0</td>\n",
       "      <td>155.0</td>\n",
       "      <td>115</td>\n",
       "      <td>78</td>\n",
       "      <td>73</td>\n",
       "      <td>108</td>\n",
       "      <td>6.6</td>\n",
       "      <td>24.7</td>\n",
       "      <td>0</td>\n",
       "      <td>0</td>\n",
       "      <td>0</td>\n",
       "      <td>0</td>\n",
       "      <td>80.0</td>\n",
       "      <td>59.4</td>\n",
       "      <td>002_1</td>\n",
       "      <td>20170302</td>\n",
       "      <td>1150</td>\n",
       "    </tr>\n",
       "    <tr>\n",
       "      <th>3</th>\n",
       "      <td>4</td>\n",
       "      <td>2</td>\n",
       "      <td>62</td>\n",
       "      <td>0</td>\n",
       "      <td>155.0</td>\n",
       "      <td>115</td>\n",
       "      <td>79</td>\n",
       "      <td>74</td>\n",
       "      <td>111</td>\n",
       "      <td>6.5</td>\n",
       "      <td>24.7</td>\n",
       "      <td>0</td>\n",
       "      <td>0</td>\n",
       "      <td>0</td>\n",
       "      <td>0</td>\n",
       "      <td>80.0</td>\n",
       "      <td>59.4</td>\n",
       "      <td>002_2</td>\n",
       "      <td>20170302</td>\n",
       "      <td>1154</td>\n",
       "    </tr>\n",
       "    <tr>\n",
       "      <th>4</th>\n",
       "      <td>5</td>\n",
       "      <td>3</td>\n",
       "      <td>53</td>\n",
       "      <td>0</td>\n",
       "      <td>157.0</td>\n",
       "      <td>147</td>\n",
       "      <td>96</td>\n",
       "      <td>77</td>\n",
       "      <td>143</td>\n",
       "      <td>7.3</td>\n",
       "      <td>25.4</td>\n",
       "      <td>0</td>\n",
       "      <td>0</td>\n",
       "      <td>0</td>\n",
       "      <td>1</td>\n",
       "      <td>83.0</td>\n",
       "      <td>62.7</td>\n",
       "      <td>003_1</td>\n",
       "      <td>20170302</td>\n",
       "      <td>1203</td>\n",
       "    </tr>\n",
       "  </tbody>\n",
       "</table>\n",
       "</div>"
      ],
      "text/plain": [
       "   Unnamed: 0  Person No  Age  Gender  Height  SYS  DIA  HR    G  PWV   BMI  \\\n",
       "0           1          1   60       0   156.0   90   63  77  115  5.8  16.6   \n",
       "1           2          1   60       0   156.0   88   60  74  114  6.4  16.6   \n",
       "2           3          2   62       0   155.0  115   78  73  108  6.6  24.7   \n",
       "3           4          2   62       0   155.0  115   79  74  111  6.5  24.7   \n",
       "4           5          3   53       0   157.0  147   96  77  143  7.3  25.4   \n",
       "\n",
       "   BP_drug  DM  DM_drug  O_drug  W_cir  weight     ID      Date  Time  \n",
       "0        0   0        0       0   61.5    40.5  001_1  20170302  1124  \n",
       "1        0   0        0       0   61.5    40.5  001_2  20170302  1130  \n",
       "2        0   0        0       0   80.0    59.4  002_1  20170302  1150  \n",
       "3        0   0        0       0   80.0    59.4  002_2  20170302  1154  \n",
       "4        0   0        0       1   83.0    62.7  003_1  20170302  1203  "
      ]
     },
     "execution_count": 4,
     "metadata": {},
     "output_type": "execute_result"
    }
   ],
   "source": [
    "data_path = '/data/put_data/timliu/BG/'\n",
    "d = pd.read_csv(data_path + 'new_IRB_summary_338_1020.csv')\n",
    "d[:5]"
   ]
  },
  {
   "cell_type": "code",
   "execution_count": 197,
   "metadata": {
    "collapsed": true
   },
   "outputs": [],
   "source": [
    "os.chdir('/data/put_data/timliu/BG/')\n",
    "d3 = d.append(d2)\n",
    "d3.to_csv('new_IRB_summary_1457_1020.csv')"
   ]
  },
  {
   "cell_type": "code",
   "execution_count": 43,
   "metadata": {
    "collapsed": true
   },
   "outputs": [],
   "source": [
    "os.chdir('/data/put_data/timliu/BG/pro_data_ACDC_1020/')\n",
    "for filename in os.listdir('.'):\n",
    "    if int(filename.split('_')[0]) <= 250:\n",
    "        os.rename(filename, filename.split('.')[0] + '_m.csv')"
   ]
  },
  {
   "cell_type": "code",
   "execution_count": 192,
   "metadata": {
    "collapsed": true
   },
   "outputs": [],
   "source": [
    "for index, row in d.iterrows():\n",
    "    if int(row['Person No']) <= 250:\n",
    "        d.iloc[index, 17] = row['ID'] + '_m'"
   ]
  },
  {
   "cell_type": "code",
   "execution_count": 56,
   "metadata": {
    "collapsed": true
   },
   "outputs": [],
   "source": [
    "f = os.path.join('/data/put_data/timliu/BG/pro_data_AC_1020/' + d['ID'] + '.csv')\n",
    "X = {}\n",
    "for i in range(d.shape[0]):\n",
    "    di = np.genfromtxt(f[i],delimiter=',',skip_header=True)\n",
    "    di = di[:, 1:]\n",
    "    X[d.iloc[i]['ID']] = di"
   ]
  },
  {
   "cell_type": "code",
   "execution_count": 57,
   "metadata": {
    "collapsed": true,
    "scrolled": true
   },
   "outputs": [],
   "source": [
    "# read raw ECG/PPG AC/DC component\n",
    "f2 = os.path.join('/data/put_data/timliu/BG/pro_data_ACDC_1020/' + d['ID'] + '.csv')\n",
    "X2 = {}\n",
    "for i in range(d.shape[0]):\n",
    "    di = np.genfromtxt(f2[i],delimiter=',',skip_header=True)\n",
    "    di = di[:, 1:]\n",
    "    X2[d.iloc[i]['ID']] = di\n",
    "    \n",
    "# combine both 5 channels to 10 channels\n",
    "all_X = {}\n",
    "for key, value in enumerate(X):\n",
    "    all_X[value] = np.hstack((X[value][2000:-3000, :], X2[value][2000:-3000, :]))\n",
    "\n",
    "# dumping all raw signal\n",
    "with open('/data/put_data/timliu/BG/1006_data/dict_X_C10_all_1020.pickle', 'wb') as h:\n",
    "    pickle.dump(all_X, h)"
   ]
  },
  {
   "cell_type": "code",
   "execution_count": 162,
   "metadata": {
    "collapsed": true,
    "scrolled": true
   },
   "outputs": [],
   "source": [
    "dd = np.concatenate((df, np.array(d[['Gender', 'BP_drug', 'DM', 'DM_drug', 'O_drug']])), axis = 1)"
   ]
  },
  {
   "cell_type": "code",
   "execution_count": 203,
   "metadata": {
    "collapsed": true
   },
   "outputs": [],
   "source": [
    "meta = {}\n",
    "i = 0\n",
    "for index, row in d.iterrows():\n",
    "    meta[row['ID']] = np.array(dd[i, :], dtype = 'float32')\n",
    "    i += 1"
   ]
  },
  {
   "cell_type": "code",
   "execution_count": 205,
   "metadata": {
    "collapsed": true
   },
   "outputs": [],
   "source": [
    "with open('/data/put_data/timliu/BG/1006_data/dict_meta_1020.pickle', 'wb') as handle:\n",
    "    pickle.dump(meta, handle)"
   ]
  },
  {
   "cell_type": "code",
   "execution_count": 200,
   "metadata": {
    "scrolled": true
   },
   "outputs": [
    {
     "ename": "ValueError",
     "evalue": "Shape of passed values is (14, 3590), indices imply (14, 2914)",
     "output_type": "error",
     "traceback": [
      "\u001b[0;31m---------------------------------------------------------------------------\u001b[0m",
      "\u001b[0;31mValueError\u001b[0m                                Traceback (most recent call last)",
      "\u001b[0;32m<ipython-input-200-73d3b4c26d07>\u001b[0m in \u001b[0;36m<module>\u001b[0;34m()\u001b[0m\n\u001b[1;32m      8\u001b[0m \u001b[0;34m\u001b[0m\u001b[0m\n\u001b[1;32m      9\u001b[0m \u001b[0mdf\u001b[0m \u001b[0;34m=\u001b[0m \u001b[0mrobust_scaler\u001b[0m\u001b[0;34m.\u001b[0m\u001b[0mfit_transform\u001b[0m\u001b[0;34m(\u001b[0m\u001b[0mdf\u001b[0m\u001b[0;34m)\u001b[0m\u001b[0;34m\u001b[0m\u001b[0m\n\u001b[0;32m---> 10\u001b[0;31m \u001b[0mdf_norm\u001b[0m \u001b[0;34m=\u001b[0m \u001b[0mpd\u001b[0m\u001b[0;34m.\u001b[0m\u001b[0mconcat\u001b[0m\u001b[0;34m(\u001b[0m\u001b[0;34m[\u001b[0m\u001b[0mpd\u001b[0m\u001b[0;34m.\u001b[0m\u001b[0mDataFrame\u001b[0m\u001b[0;34m(\u001b[0m\u001b[0mdf\u001b[0m\u001b[0;34m)\u001b[0m\u001b[0;34m,\u001b[0m \u001b[0mpd\u001b[0m\u001b[0;34m.\u001b[0m\u001b[0mDataFrame\u001b[0m\u001b[0;34m(\u001b[0m\u001b[0md\u001b[0m\u001b[0;34m,\u001b[0m \u001b[0mcolumns\u001b[0m \u001b[0;34m=\u001b[0m \u001b[0;34m[\u001b[0m\u001b[0;34m'Gender'\u001b[0m\u001b[0;34m,\u001b[0m \u001b[0;34m'BP_drug'\u001b[0m\u001b[0;34m,\u001b[0m \u001b[0;34m'DM'\u001b[0m\u001b[0;34m,\u001b[0m \u001b[0;34m'DM_drug'\u001b[0m\u001b[0;34m,\u001b[0m \u001b[0;34m'O_drug'\u001b[0m\u001b[0;34m]\u001b[0m\u001b[0;34m)\u001b[0m\u001b[0;34m]\u001b[0m\u001b[0;34m,\u001b[0m \u001b[0maxis\u001b[0m \u001b[0;34m=\u001b[0m \u001b[0;36m1\u001b[0m\u001b[0;34m)\u001b[0m\u001b[0;34m\u001b[0m\u001b[0m\n\u001b[0m\u001b[1;32m     11\u001b[0m \u001b[0;34m\u001b[0m\u001b[0m\n\u001b[1;32m     12\u001b[0m \u001b[0mmeta\u001b[0m \u001b[0;34m=\u001b[0m \u001b[0;34m{\u001b[0m\u001b[0;34m}\u001b[0m\u001b[0;34m\u001b[0m\u001b[0m\n",
      "\u001b[0;32m/usr/local/lib/python3.5/dist-packages/pandas/core/reshape/concat.py\u001b[0m in \u001b[0;36mconcat\u001b[0;34m(objs, axis, join, join_axes, ignore_index, keys, levels, names, verify_integrity, copy)\u001b[0m\n\u001b[1;32m    205\u001b[0m                        \u001b[0mverify_integrity\u001b[0m\u001b[0;34m=\u001b[0m\u001b[0mverify_integrity\u001b[0m\u001b[0;34m,\u001b[0m\u001b[0;34m\u001b[0m\u001b[0m\n\u001b[1;32m    206\u001b[0m                        copy=copy)\n\u001b[0;32m--> 207\u001b[0;31m     \u001b[0;32mreturn\u001b[0m \u001b[0mop\u001b[0m\u001b[0;34m.\u001b[0m\u001b[0mget_result\u001b[0m\u001b[0;34m(\u001b[0m\u001b[0;34m)\u001b[0m\u001b[0;34m\u001b[0m\u001b[0m\n\u001b[0m\u001b[1;32m    208\u001b[0m \u001b[0;34m\u001b[0m\u001b[0m\n\u001b[1;32m    209\u001b[0m \u001b[0;34m\u001b[0m\u001b[0m\n",
      "\u001b[0;32m/usr/local/lib/python3.5/dist-packages/pandas/core/reshape/concat.py\u001b[0m in \u001b[0;36mget_result\u001b[0;34m(self)\u001b[0m\n\u001b[1;32m    405\u001b[0m             new_data = concatenate_block_managers(\n\u001b[1;32m    406\u001b[0m                 \u001b[0mmgrs_indexers\u001b[0m\u001b[0;34m,\u001b[0m \u001b[0mself\u001b[0m\u001b[0;34m.\u001b[0m\u001b[0mnew_axes\u001b[0m\u001b[0;34m,\u001b[0m \u001b[0mconcat_axis\u001b[0m\u001b[0;34m=\u001b[0m\u001b[0mself\u001b[0m\u001b[0;34m.\u001b[0m\u001b[0maxis\u001b[0m\u001b[0;34m,\u001b[0m\u001b[0;34m\u001b[0m\u001b[0m\n\u001b[0;32m--> 407\u001b[0;31m                 copy=self.copy)\n\u001b[0m\u001b[1;32m    408\u001b[0m             \u001b[0;32mif\u001b[0m \u001b[0;32mnot\u001b[0m \u001b[0mself\u001b[0m\u001b[0;34m.\u001b[0m\u001b[0mcopy\u001b[0m\u001b[0;34m:\u001b[0m\u001b[0;34m\u001b[0m\u001b[0m\n\u001b[1;32m    409\u001b[0m                 \u001b[0mnew_data\u001b[0m\u001b[0;34m.\u001b[0m\u001b[0m_consolidate_inplace\u001b[0m\u001b[0;34m(\u001b[0m\u001b[0;34m)\u001b[0m\u001b[0;34m\u001b[0m\u001b[0m\n",
      "\u001b[0;32m/usr/local/lib/python3.5/dist-packages/pandas/core/internals.py\u001b[0m in \u001b[0;36mconcatenate_block_managers\u001b[0;34m(mgrs_indexers, axes, concat_axis, copy)\u001b[0m\n\u001b[1;32m   4832\u001b[0m         placement=placement) for placement, join_units in concat_plan]\n\u001b[1;32m   4833\u001b[0m \u001b[0;34m\u001b[0m\u001b[0m\n\u001b[0;32m-> 4834\u001b[0;31m     \u001b[0;32mreturn\u001b[0m \u001b[0mBlockManager\u001b[0m\u001b[0;34m(\u001b[0m\u001b[0mblocks\u001b[0m\u001b[0;34m,\u001b[0m \u001b[0maxes\u001b[0m\u001b[0;34m)\u001b[0m\u001b[0;34m\u001b[0m\u001b[0m\n\u001b[0m\u001b[1;32m   4835\u001b[0m \u001b[0;34m\u001b[0m\u001b[0m\n\u001b[1;32m   4836\u001b[0m \u001b[0;34m\u001b[0m\u001b[0m\n",
      "\u001b[0;32m/usr/local/lib/python3.5/dist-packages/pandas/core/internals.py\u001b[0m in \u001b[0;36m__init__\u001b[0;34m(self, blocks, axes, do_integrity_check, fastpath)\u001b[0m\n\u001b[1;32m   2793\u001b[0m \u001b[0;34m\u001b[0m\u001b[0m\n\u001b[1;32m   2794\u001b[0m         \u001b[0;32mif\u001b[0m \u001b[0mdo_integrity_check\u001b[0m\u001b[0;34m:\u001b[0m\u001b[0;34m\u001b[0m\u001b[0m\n\u001b[0;32m-> 2795\u001b[0;31m             \u001b[0mself\u001b[0m\u001b[0;34m.\u001b[0m\u001b[0m_verify_integrity\u001b[0m\u001b[0;34m(\u001b[0m\u001b[0;34m)\u001b[0m\u001b[0;34m\u001b[0m\u001b[0m\n\u001b[0m\u001b[1;32m   2796\u001b[0m \u001b[0;34m\u001b[0m\u001b[0m\n\u001b[1;32m   2797\u001b[0m         \u001b[0mself\u001b[0m\u001b[0;34m.\u001b[0m\u001b[0m_consolidate_check\u001b[0m\u001b[0;34m(\u001b[0m\u001b[0;34m)\u001b[0m\u001b[0;34m\u001b[0m\u001b[0m\n",
      "\u001b[0;32m/usr/local/lib/python3.5/dist-packages/pandas/core/internals.py\u001b[0m in \u001b[0;36m_verify_integrity\u001b[0;34m(self)\u001b[0m\n\u001b[1;32m   3004\u001b[0m         \u001b[0;32mfor\u001b[0m \u001b[0mblock\u001b[0m \u001b[0;32min\u001b[0m \u001b[0mself\u001b[0m\u001b[0;34m.\u001b[0m\u001b[0mblocks\u001b[0m\u001b[0;34m:\u001b[0m\u001b[0;34m\u001b[0m\u001b[0m\n\u001b[1;32m   3005\u001b[0m             \u001b[0;32mif\u001b[0m \u001b[0mblock\u001b[0m\u001b[0;34m.\u001b[0m\u001b[0m_verify_integrity\u001b[0m \u001b[0;32mand\u001b[0m \u001b[0mblock\u001b[0m\u001b[0;34m.\u001b[0m\u001b[0mshape\u001b[0m\u001b[0;34m[\u001b[0m\u001b[0;36m1\u001b[0m\u001b[0;34m:\u001b[0m\u001b[0;34m]\u001b[0m \u001b[0;34m!=\u001b[0m \u001b[0mmgr_shape\u001b[0m\u001b[0;34m[\u001b[0m\u001b[0;36m1\u001b[0m\u001b[0;34m:\u001b[0m\u001b[0;34m]\u001b[0m\u001b[0;34m:\u001b[0m\u001b[0;34m\u001b[0m\u001b[0m\n\u001b[0;32m-> 3006\u001b[0;31m                 \u001b[0mconstruction_error\u001b[0m\u001b[0;34m(\u001b[0m\u001b[0mtot_items\u001b[0m\u001b[0;34m,\u001b[0m \u001b[0mblock\u001b[0m\u001b[0;34m.\u001b[0m\u001b[0mshape\u001b[0m\u001b[0;34m[\u001b[0m\u001b[0;36m1\u001b[0m\u001b[0;34m:\u001b[0m\u001b[0;34m]\u001b[0m\u001b[0;34m,\u001b[0m \u001b[0mself\u001b[0m\u001b[0;34m.\u001b[0m\u001b[0maxes\u001b[0m\u001b[0;34m)\u001b[0m\u001b[0;34m\u001b[0m\u001b[0m\n\u001b[0m\u001b[1;32m   3007\u001b[0m         \u001b[0;32mif\u001b[0m \u001b[0mlen\u001b[0m\u001b[0;34m(\u001b[0m\u001b[0mself\u001b[0m\u001b[0;34m.\u001b[0m\u001b[0mitems\u001b[0m\u001b[0;34m)\u001b[0m \u001b[0;34m!=\u001b[0m \u001b[0mtot_items\u001b[0m\u001b[0;34m:\u001b[0m\u001b[0;34m\u001b[0m\u001b[0m\n\u001b[1;32m   3008\u001b[0m             raise AssertionError('Number of manager items must equal union of '\n",
      "\u001b[0;32m/usr/local/lib/python3.5/dist-packages/pandas/core/internals.py\u001b[0m in \u001b[0;36mconstruction_error\u001b[0;34m(tot_items, block_shape, axes, e)\u001b[0m\n\u001b[1;32m   4278\u001b[0m         \u001b[0;32mraise\u001b[0m \u001b[0mValueError\u001b[0m\u001b[0;34m(\u001b[0m\u001b[0;34m\"Empty data passed with indices specified.\"\u001b[0m\u001b[0;34m)\u001b[0m\u001b[0;34m\u001b[0m\u001b[0m\n\u001b[1;32m   4279\u001b[0m     raise ValueError(\"Shape of passed values is {0}, indices imply {1}\".format(\n\u001b[0;32m-> 4280\u001b[0;31m         passed, implied))\n\u001b[0m\u001b[1;32m   4281\u001b[0m \u001b[0;34m\u001b[0m\u001b[0m\n\u001b[1;32m   4282\u001b[0m \u001b[0;34m\u001b[0m\u001b[0m\n",
      "\u001b[0;31mValueError\u001b[0m: Shape of passed values is (14, 3590), indices imply (14, 2914)"
     ]
    }
   ],
   "source": [
    "robust_scaler = RobustScaler()\n",
    "d = d3\n",
    "df = d.drop(['Unnamed: 0', 'Person No', 'Gender', 'BP_drug','DM','DM_drug','O_drug','ID','Date','Time','G'], axis = 1)\n",
    "# df = d.drop(['HbA1C','HDL','LDL','TC','TG','Person No', 'ID', 'Gender', 'BP_drug', 'G', 'DM', 'DM_drug', 'O_drug', 'Date', 'Time'], axis = 1)\n",
    "# df = d.drop(['Person No', 'ID', 'Gender', 'BP_drug', 'G', 'DM', 'DM_drug', 'O_drug', 'Date', 'Time'], axis = 1)\n",
    "# df = df.iloc[:, :13]\n",
    "df = np.asarray(df, dtype=np.float)\n",
    "\n",
    "df = robust_scaler.fit_transform(df)\n",
    "df_norm = pd.concat([pd.DataFrame(df), pd.DataFrame(d, columns = ['Gender', 'BP_drug', 'DM', 'DM_drug', 'O_drug'])], axis = 1)\n",
    "\n",
    "meta = {}\n",
    "for i in range(d.shape[0]):\n",
    "    meta[d.iloc[i]['ID']] = np.array(df_norm.iloc[i], dtype = 'float32')\n",
    "# with open('/data/put_data/timliu/BG/1006_data/dict_meta_1020.pickle', 'wb') as handle:\n",
    "#     pickle.dump(meta, handle)"
   ]
  },
  {
   "cell_type": "markdown",
   "metadata": {},
   "source": [
    "# Grid Plot for Abnormal Signal Detecting"
   ]
  },
  {
   "cell_type": "code",
   "execution_count": 46,
   "metadata": {
    "collapsed": true
   },
   "outputs": [],
   "source": [
    "with open('/data/put_data/timliu/BG/1006_data/dict_X_C10_1020_final.pickle', 'rb') as h:\n",
    "    X = pickle.load(h)"
   ]
  },
  {
   "cell_type": "code",
   "execution_count": 22,
   "metadata": {},
   "outputs": [
    {
     "name": "stdout",
     "output_type": "stream",
     "text": [
      "Process data: 100.0%"
     ]
    }
   ],
   "source": [
    "# AC AC/DC only\n",
    "directory = '/data/put_data/timliu/BG/signal/AC/'\n",
    "if not os.path.exists(directory):\n",
    "    os.makedirs(directory)\n",
    "started = 0 \n",
    "channel = 0  # if AC/DC = 5\n",
    "all_d = d['Person No'].unique()\n",
    "for i in range(len(all_d)):\n",
    "    number = all_d[i]\n",
    "    id_df = d.loc[d['Person No'] == number]\n",
    "    id_ = np.array(id_df['ID'])\n",
    "    if id_.shape[0] == 2:\n",
    "        f, axarr = plt.subplots(5,2,sharex='col', sharey='row',figsize=(20, 40))\n",
    "        f.suptitle('AC/DC', fontsize=60)\n",
    "        # ex 003_1\n",
    "        id_1 = id_[0]\n",
    "        axarr[started, 0].plot(X[id_1][:,channel],color = 'g')\n",
    "        axarr[started, 0].set_ylabel('ECG', fontsize=20)\n",
    "        axarr[started, 0].set_title(id_1,fontsize=20)\n",
    "        axarr[started+1, 0].plot(X[id_1][:,channel+1])\n",
    "        axarr[started+1, 0].set_ylabel('LR', fontsize=20)\n",
    "        axarr[started+2, 0].plot(X[id_1][:,channel+2])\n",
    "        axarr[started+2, 0].set_ylabel('LIR', fontsize = 20)\n",
    "        axarr[started+3, 0].plot(X[id_1][:,channel+3])\n",
    "        axarr[started+3, 0].set_ylabel('RR', fontsize = 20)\n",
    "        axarr[started+4, 0].plot(X[id_1][:,channel+4])\n",
    "        axarr[started+4, 0].set_ylabel('RIR', fontsize = 20)\n",
    "        # ex 003_2\n",
    "        id_2 = id_[1]\n",
    "        axarr[started, 1].plot(X[id_2][:,channel],color = 'g')\n",
    "        axarr[started, 1].set_title(id_2,fontsize=20)\n",
    "        axarr[started+1, 1].plot(X[id_2][:,channel+1])\n",
    "        axarr[started+2, 1].plot(X[id_2][:,channel+2])\n",
    "        axarr[started+3, 1].plot(X[id_2][:,channel+3])\n",
    "        axarr[started+4, 1].plot(X[id_2][:,channel+4])\n",
    "        f.subplots_adjust(hspace=0.1, wspace = 0.1)\n",
    "        f.savefig(directory + str(number) + \".png\")\n",
    "        plt.close()\n",
    "    else:\n",
    "        f, axarr = plt.subplots(5,1,sharex='col', sharey='row',figsize=(20, 40))\n",
    "        f.suptitle('AC/DC', fontsize=60)\n",
    "        id_1 = id_[0]\n",
    "        axarr[started].plot(X[id_1][:,channel],color = 'g')\n",
    "        axarr[started].set_ylabel('ECG', fontsize=20)\n",
    "        axarr[started].set_title(id_1,fontsize=20)\n",
    "        axarr[started+1].plot(X[id_1][:,channel+1])\n",
    "        axarr[started+1].set_ylabel('LR', fontsize=20)\n",
    "        axarr[started+2].plot(X[id_1][:,channel+2])\n",
    "        axarr[started+2].set_ylabel('LIR', fontsize = 20)\n",
    "        axarr[started+3].plot(X[id_1][:,channel+3])\n",
    "        axarr[started+3].set_ylabel('RR', fontsize = 20)\n",
    "        axarr[started+4].plot(X[id_1][:,channel+4])\n",
    "        axarr[started+4].set_ylabel('RIR', fontsize = 20)\n",
    "        f.subplots_adjust(hspace=0.1, wspace = 0.1)\n",
    "        f.savefig(directory + str(number) + \".png\")\n",
    "        plt.close()\n",
    "    print('\\rProcess data: {}%'.format(round((i+1)/len(all_d)*100, 2)), end='',flush=True)"
   ]
  },
  {
   "cell_type": "markdown",
   "metadata": {},
   "source": [
    "# Raw Signal Combination and Trim"
   ]
  },
  {
   "cell_type": "code",
   "execution_count": 30,
   "metadata": {
    "collapsed": true
   },
   "outputs": [],
   "source": [
    "# read raw ECG/PPG AC component\n",
    "f = os.path.join('/data/put_data/timliu/BG/pro_data_AC/' + d['ID'] + '.csv')\n",
    "X = {}\n",
    "for i in range(d.shape[0]):\n",
    "    di = np.genfromtxt(f[i],delimiter=',',skip_header=True)\n",
    "    di = di[:, 1:]\n",
    "    X[d.iloc[i]['ID']] = di\n",
    "    \n",
    "# read raw ECG/PPG AC/DC component\n",
    "f2 = os.path.join('/data/put_data/timliu/BG/pro_data_ACDC/' + d['ID'] + '.csv')\n",
    "X2 = {}\n",
    "for i in range(d.shape[0]):\n",
    "    di = np.genfromtxt(f2[i],delimiter=',',skip_header=True)\n",
    "    di = di[:, 1:]\n",
    "    X2[d.iloc[i]['ID']] = di\n",
    "    \n",
    "# combine both 5 channels to 10 channels\n",
    "all_X = {}\n",
    "for key, value in enumerate(X):\n",
    "    all_X[value] = np.hstack((X[value][2000:-3000, :], X2[value][2000:-3000, :]))\n",
    "\n",
    "# dumping all raw signal\n",
    "with open('/data/put_data/timliu/BG/1006_data/dict_X_C10_all.pickle', 'wb') as h:\n",
    "    pickle.dump(all_X, h)"
   ]
  },
  {
   "cell_type": "markdown",
   "metadata": {},
   "source": [
    "# Robust scaler & downsampling for ECG/PPG"
   ]
  },
  {
   "cell_type": "code",
   "execution_count": 162,
   "metadata": {
    "collapsed": true
   },
   "outputs": [],
   "source": [
    "with open('/data/put_data/timliu/BG/1006_data/dict_X_C10_1020_final.pickle', 'rb') as h:\n",
    "    all_X2 = pickle.load(h)"
   ]
  },
  {
   "cell_type": "code",
   "execution_count": 65,
   "metadata": {
    "collapsed": true
   },
   "outputs": [],
   "source": [
    "c = dict(all_X, **all_X2)"
   ]
  },
  {
   "cell_type": "code",
   "execution_count": 4,
   "metadata": {
    "collapsed": true
   },
   "outputs": [],
   "source": [
    "import random, pickle\n",
    "'''open raw signal'''\n",
    "with open('/data/put_data/timliu/BG/1006_data/dict_X_C10_1020_final_5sec.pickle', 'rb') as h:\n",
    "    all_X = pickle.load(h)"
   ]
  },
  {
   "cell_type": "code",
   "execution_count": 187,
   "metadata": {},
   "outputs": [
    {
     "data": {
      "text/plain": [
       "(40740,)"
      ]
     },
     "execution_count": 187,
     "metadata": {},
     "output_type": "execute_result"
    }
   ],
   "source": [
    "x = all_X['003_1'][:, 6]\n",
    "x.shape"
   ]
  },
  {
   "cell_type": "code",
   "execution_count": 188,
   "metadata": {},
   "outputs": [],
   "source": [
    "x = (x - np.mean(x))/np.std(x)"
   ]
  },
  {
   "cell_type": "code",
   "execution_count": 115,
   "metadata": {},
   "outputs": [],
   "source": [
    "from scipy import signal\n",
    "b, a = signal.butter(8, 0.1)\n",
    "y = signal.filtfilt(b, a, x)"
   ]
  },
  {
   "cell_type": "code",
   "execution_count": 127,
   "metadata": {},
   "outputs": [],
   "source": [
    "b, a = signal.butter(8, 0.002)\n",
    "y2 = signal.filtfilt(b, a, x)"
   ]
  },
  {
   "cell_type": "code",
   "execution_count": 131,
   "metadata": {
    "collapsed": true
   },
   "outputs": [],
   "source": [
    "def butter_bandpass(lowcut, highcut, fs, order=5):\n",
    "    nyq = 0.5 * fs\n",
    "    low = lowcut / nyq\n",
    "    high = highcut / nyq\n",
    "    b, a = signal.butter(order, [low,high], btype='bandpass')\n",
    "    return b, a\n",
    "\n",
    "def butter_bandpass_filter(data, lowcut, highcut, fs, order=5):\n",
    "    b, a = butter_bandpass(lowcut, highcut, fs, order=order)\n",
    "    y = signal.lfilter(b, a, data)\n",
    "    return y"
   ]
  },
  {
   "cell_type": "code",
   "execution_count": 146,
   "metadata": {},
   "outputs": [
    {
     "data": {
      "image/png": "[encoded data removed]",
      "text/plain": [
       "<matplotlib.figure.Figure at 0x7f5b15c840f0>"
      ]
     },
     "metadata": {},
     "output_type": "display_data"
    }
   ],
   "source": [
    "plt.plot(all_X['003_1'][:, 1])\n",
    "plt.show()\n",
    "plt.close()"
   ]
  },
  {
   "cell_type": "code",
   "execution_count": 191,
   "metadata": {},
   "outputs": [
    {
     "data": {
      "image/png": "[encoded data removed]",
      "text/plain": [
       "<matplotlib.figure.Figure at 0x7f5b153d4710>"
      ]
     },
     "metadata": {},
     "output_type": "display_data"
    }
   ],
   "source": [
    "plt.plot(butter_bandpass_filter(x, 0.05, 50, 1000, order=2))\n",
    "plt.show()\n",
    "plt.close()"
   ]
  },
  {
   "cell_type": "code",
   "execution_count": 217,
   "metadata": {},
   "outputs": [],
   "source": [
    "with open('/data/put_data/timliu/BG/1107_data/dict_X_C4_lfilter_1107.pickle', 'wb') as h:\n",
    "    pickle.dump(all_X_2, h)"
   ]
  },
  {
   "cell_type": "code",
   "execution_count": 198,
   "metadata": {},
   "outputs": [
    {
     "name": "stderr",
     "output_type": "stream",
     "text": [
      "/usr/local/lib/python3.5/dist-packages/scipy/signal/signaltools.py:3402: FutureWarning:  Note: Decimate's zero_phase keyword argument will default to True in a future release. Until then, decimate defaults to one-way filtering for backwards compatibility. Ideally, always set this argument explicitly.\n",
      "  \"explicitly.\", FutureWarning)\n"
     ]
    }
   ],
   "source": [
    "'''stack all data for robust scaler'''\n",
    "all_data = [all_X[val][:,6:] for key, val in enumerate(all_X)]\n",
    "all_data = np.vstack(all_data)\n",
    "# from sklearn.preprocessing import RobustScaler\n",
    "# robust_scaler = RobustScaler()\n",
    "# t = robust_scaler.fit_transform(all_data)\n",
    "all_mean = np.mean(all_data)\n",
    "all_std = np.std(all_data)\n",
    "\n",
    "# '''downsample to 200Hz'''\n",
    "n_sample = 2500\n",
    "import scipy.signal\n",
    "all_X_2 = {}\n",
    "for index, key in enumerate(all_X):\n",
    "#     x = robust_scaler.transform(all_X[key][:, :])\n",
    "    x = (all_X[key][:, 6:] - all_mean)/all_std\n",
    "    butter_bandpass_filter(x, 0.05, 50, 1000, order=4)\n",
    "    x = scipy.signal.decimate(x, 2, axis = 0)\n",
    "    sample_x = {}\n",
    "    j = 0\n",
    "    for i in range(8):\n",
    "#         j = random.randint(0,int(x.shape[0]-n_sample))\n",
    "        j = int(j + (i*0.5)*n_sample)\n",
    "        sample_x[i] = x[j:(j+n_sample), :]\n",
    "        if x[j:(j+n_sample), :].shape[0] < 2500:\n",
    "            j = random.randint(0,int(x.shape[0]-n_sample))\n",
    "            sample_x[i] = x[j:(j+n_sample), :]\n",
    "    all_X_2[key] = sample_x\n",
    "\n",
    "# with open('/data/put_data/timliu/BG/1103_data/dict_X_C10_tkeo_1103.pickle', 'wb') as h:\n",
    "#     pickle.dump(all_X_2, h)\n",
    "    \n",
    "# '''random select 5 30s siganl from original'''\n",
    "# n_sample = 30000\n",
    "# import scipy.signal\n",
    "# all_X_2 = {}\n",
    "# for key,val in enumerate(all_X):\n",
    "#     x = robust_scaler.transform(all_X[val])\n",
    "#     sample_x = {}\n",
    "#     for i in range(5):\n",
    "#         j = random.randint(0,int(x.shape[0]-n_sample))\n",
    "#         sample_x[i] = x[j:(j+n_sample), :]\n",
    "#     all_X_2[val] = sample_x\n",
    "\n",
    "# '''down sample for each short signal'''\n",
    "# downsample = [5,20,40,10]\n",
    "# for d in downsample:\n",
    "#     down_X = {}\n",
    "#     for key, val in all_X_2.items():\n",
    "#         dict_x = all_X_2[key]\n",
    "#         dict_X = {}\n",
    "#         for key2, val2 in dict_x.items():\n",
    "#             x = scipy.signal.decimate(dict_x[key2], d, axis = 0)\n",
    "#             dict_X[key2] = x\n",
    "#         down_X[key] = dict_X\n",
    "#     with open('/data/put_data/timliu/BG/1006_data/' + 'dict_X_C10_S5_%s'%(str(int(1000/d))) + '_5sec.pickle', 'wb') as h:\n",
    "#         pickle.dump(down_X, h)"
   ]
  },
  {
   "cell_type": "markdown",
   "metadata": {},
   "source": [
    "# Moving Average of Signal"
   ]
  },
  {
   "cell_type": "code",
   "execution_count": 4,
   "metadata": {
    "collapsed": true
   },
   "outputs": [],
   "source": [
    "'''open raw signal'''\n",
    "file_path = '/data/put_data/timliu/BG/'\n",
    "with open(file_path+'train_test/data/dict_X_C10_all_newtrim_0831.pickle', 'rb') as h:\n",
    "    all_X = pickle.load(h)"
   ]
  },
  {
   "cell_type": "code",
   "execution_count": 29,
   "metadata": {
    "collapsed": true
   },
   "outputs": [],
   "source": [
    "t = all_X['004_2'][:,0]"
   ]
  },
  {
   "cell_type": "code",
   "execution_count": 30,
   "metadata": {
    "collapsed": true,
    "scrolled": true
   },
   "outputs": [],
   "source": [
    "df = pd.DataFrame(t)"
   ]
  },
  {
   "cell_type": "code",
   "execution_count": 89,
   "metadata": {
    "collapsed": true,
    "scrolled": true
   },
   "outputs": [],
   "source": [
    "df_mean = df.rolling(window=10).mean()"
   ]
  },
  {
   "cell_type": "code",
   "execution_count": 115,
   "metadata": {
    "scrolled": true
   },
   "outputs": [
    {
     "data": {
      "image/png": "[encoded data removed]",
      "text/plain": [
       "<matplotlib.figure.Figure at 0x7f63d3aaf128>"
      ]
     },
     "metadata": {},
     "output_type": "display_data"
    }
   ],
   "source": [
    "plt.plot(t[27280:27712])\n",
    "plt.show()\n",
    "plt.close()"
   ]
  },
  {
   "cell_type": "code",
   "execution_count": 90,
   "metadata": {
    "scrolled": true
   },
   "outputs": [
    {
     "data": {
      "text/html": [
       "<div>\n",
       "<style>\n",
       "    .dataframe thead tr:only-child th {\n",
       "        text-align: right;\n",
       "    }\n",
       "\n",
       "    .dataframe thead th {\n",
       "        text-align: left;\n",
       "    }\n",
       "\n",
       "    .dataframe tbody tr th {\n",
       "        vertical-align: top;\n",
       "    }\n",
       "</style>\n",
       "<table border=\"1\" class=\"dataframe\">\n",
       "  <thead>\n",
       "    <tr style=\"text-align: right;\">\n",
       "      <th></th>\n",
       "      <th>0</th>\n",
       "    </tr>\n",
       "  </thead>\n",
       "  <tbody>\n",
       "    <tr>\n",
       "      <th>19600</th>\n",
       "      <td>32.298833</td>\n",
       "    </tr>\n",
       "    <tr>\n",
       "      <th>19601</th>\n",
       "      <td>32.684443</td>\n",
       "    </tr>\n",
       "    <tr>\n",
       "      <th>19602</th>\n",
       "      <td>33.126959</td>\n",
       "    </tr>\n",
       "    <tr>\n",
       "      <th>19603</th>\n",
       "      <td>33.603166</td>\n",
       "    </tr>\n",
       "    <tr>\n",
       "      <th>19604</th>\n",
       "      <td>34.086798</td>\n",
       "    </tr>\n",
       "    <tr>\n",
       "      <th>19605</th>\n",
       "      <td>34.553112</td>\n",
       "    </tr>\n",
       "    <tr>\n",
       "      <th>19606</th>\n",
       "      <td>34.982625</td>\n",
       "    </tr>\n",
       "    <tr>\n",
       "      <th>19607</th>\n",
       "      <td>35.363279</td>\n",
       "    </tr>\n",
       "    <tr>\n",
       "      <th>19608</th>\n",
       "      <td>35.690594</td>\n",
       "    </tr>\n",
       "    <tr>\n",
       "      <th>19609</th>\n",
       "      <td>35.965805</td>\n",
       "    </tr>\n",
       "    <tr>\n",
       "      <th>19610</th>\n",
       "      <td>36.192478</td>\n",
       "    </tr>\n",
       "    <tr>\n",
       "      <th>19611</th>\n",
       "      <td>36.372588</td>\n",
       "    </tr>\n",
       "    <tr>\n",
       "      <th>19612</th>\n",
       "      <td>36.503196</td>\n",
       "    </tr>\n",
       "    <tr>\n",
       "      <th>19613</th>\n",
       "      <td>36.574608</td>\n",
       "    </tr>\n",
       "    <tr>\n",
       "      <th>19614</th>\n",
       "      <td>36.570389</td>\n",
       "    </tr>\n",
       "    <tr>\n",
       "      <th>19615</th>\n",
       "      <td>36.469230</td>\n",
       "    </tr>\n",
       "    <tr>\n",
       "      <th>19616</th>\n",
       "      <td>36.248317</td>\n",
       "    </tr>\n",
       "    <tr>\n",
       "      <th>19617</th>\n",
       "      <td>35.887670</td>\n",
       "    </tr>\n",
       "    <tr>\n",
       "      <th>19618</th>\n",
       "      <td>35.374738</td>\n",
       "    </tr>\n",
       "    <tr>\n",
       "      <th>19619</th>\n",
       "      <td>34.708465</td>\n",
       "    </tr>\n",
       "    <tr>\n",
       "      <th>19620</th>\n",
       "      <td>33.902035</td>\n",
       "    </tr>\n",
       "    <tr>\n",
       "      <th>19621</th>\n",
       "      <td>32.983666</td>\n",
       "    </tr>\n",
       "    <tr>\n",
       "      <th>19622</th>\n",
       "      <td>31.994926</td>\n",
       "    </tr>\n",
       "    <tr>\n",
       "      <th>19623</th>\n",
       "      <td>30.986584</td>\n",
       "    </tr>\n",
       "    <tr>\n",
       "      <th>19624</th>\n",
       "      <td>30.012609</td>\n",
       "    </tr>\n",
       "    <tr>\n",
       "      <th>19625</th>\n",
       "      <td>29.123463</td>\n",
       "    </tr>\n",
       "    <tr>\n",
       "      <th>19626</th>\n",
       "      <td>28.359839</td>\n",
       "    </tr>\n",
       "    <tr>\n",
       "      <th>19627</th>\n",
       "      <td>27.747842</td>\n",
       "    </tr>\n",
       "    <tr>\n",
       "      <th>19628</th>\n",
       "      <td>27.296269</td>\n",
       "    </tr>\n",
       "    <tr>\n",
       "      <th>19629</th>\n",
       "      <td>26.996295</td>\n",
       "    </tr>\n",
       "    <tr>\n",
       "      <th>19630</th>\n",
       "      <td>26.823448</td>\n",
       "    </tr>\n",
       "    <tr>\n",
       "      <th>19631</th>\n",
       "      <td>26.741470</td>\n",
       "    </tr>\n",
       "    <tr>\n",
       "      <th>19632</th>\n",
       "      <td>26.707465</td>\n",
       "    </tr>\n",
       "    <tr>\n",
       "      <th>19633</th>\n",
       "      <td>26.677609</td>\n",
       "    </tr>\n",
       "    <tr>\n",
       "      <th>19634</th>\n",
       "      <td>26.612518</td>\n",
       "    </tr>\n",
       "    <tr>\n",
       "      <th>19635</th>\n",
       "      <td>26.481325</td>\n",
       "    </tr>\n",
       "    <tr>\n",
       "      <th>19636</th>\n",
       "      <td>26.263763</td>\n",
       "    </tr>\n",
       "    <tr>\n",
       "      <th>19637</th>\n",
       "      <td>25.950047</td>\n",
       "    </tr>\n",
       "    <tr>\n",
       "      <th>19638</th>\n",
       "      <td>25.538909</td>\n",
       "    </tr>\n",
       "    <tr>\n",
       "      <th>19639</th>\n",
       "      <td>25.034574</td>\n",
       "    </tr>\n",
       "  </tbody>\n",
       "</table>\n",
       "</div>"
      ],
      "text/plain": [
       "               0\n",
       "19600  32.298833\n",
       "19601  32.684443\n",
       "19602  33.126959\n",
       "19603  33.603166\n",
       "19604  34.086798\n",
       "19605  34.553112\n",
       "19606  34.982625\n",
       "19607  35.363279\n",
       "19608  35.690594\n",
       "19609  35.965805\n",
       "19610  36.192478\n",
       "19611  36.372588\n",
       "19612  36.503196\n",
       "19613  36.574608\n",
       "19614  36.570389\n",
       "19615  36.469230\n",
       "19616  36.248317\n",
       "19617  35.887670\n",
       "19618  35.374738\n",
       "19619  34.708465\n",
       "19620  33.902035\n",
       "19621  32.983666\n",
       "19622  31.994926\n",
       "19623  30.986584\n",
       "19624  30.012609\n",
       "19625  29.123463\n",
       "19626  28.359839\n",
       "19627  27.747842\n",
       "19628  27.296269\n",
       "19629  26.996295\n",
       "19630  26.823448\n",
       "19631  26.741470\n",
       "19632  26.707465\n",
       "19633  26.677609\n",
       "19634  26.612518\n",
       "19635  26.481325\n",
       "19636  26.263763\n",
       "19637  25.950047\n",
       "19638  25.538909\n",
       "19639  25.034574"
      ]
     },
     "execution_count": 90,
     "metadata": {},
     "output_type": "execute_result"
    }
   ],
   "source": [
    "df_mean[19600:19640]"
   ]
  },
  {
   "cell_type": "code",
   "execution_count": 110,
   "metadata": {
    "collapsed": true
   },
   "outputs": [],
   "source": [
    "df_mean = np.array(df_mean)\n",
    "error = []\n",
    "for i in range(df_mean.shape[0]):\n",
    "    try:\n",
    "        if i % 10 ==0:\n",
    "            diff = abs(df_mean[i] - df_mean[i+10])/df_mean[i]\n",
    "            if diff >= 80:\n",
    "                error.append(i)\n",
    "    except:\n",
    "        pass"
   ]
  },
  {
   "cell_type": "code",
   "execution_count": 111,
   "metadata": {
    "scrolled": true
   },
   "outputs": [
    {
     "data": {
      "text/plain": [
       "[7660, 8940, 11810, 12530, 22390, 35720, 36060, 37430]"
      ]
     },
     "execution_count": 111,
     "metadata": {},
     "output_type": "execute_result"
    }
   ],
   "source": [
    "error"
   ]
  },
  {
   "cell_type": "code",
   "execution_count": null,
   "metadata": {
    "collapsed": true
   },
   "outputs": [],
   "source": []
  }
 ],
 "metadata": {
  "kernelspec": {
   "display_name": "Python 3",
   "language": "python",
   "name": "python3"
  },
  "language_info": {
   "codemirror_mode": {
    "name": "ipython",
    "version": 3
   },
   "file_extension": ".py",
   "mimetype": "text/x-python",
   "name": "python",
   "nbconvert_exporter": "python",
   "pygments_lexer": "ipython3",
   "version": "3.5.2"
  }
 },
 "nbformat": 4,
 "nbformat_minor": 2
}
