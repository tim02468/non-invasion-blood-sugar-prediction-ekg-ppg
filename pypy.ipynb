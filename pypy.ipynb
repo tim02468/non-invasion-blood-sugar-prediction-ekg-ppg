{
 "cells": [
  {
   "cell_type": "markdown",
   "metadata": {},
   "source": [
    "## Package import"
   ]
  },
  {
   "cell_type": "code",
   "execution_count": 1,
   "metadata": {
    "collapsed": true
   },
   "outputs": [],
   "source": [
    "import torch\n",
    "from torch.autograd import Variable\n",
    "import torch.nn as nn\n",
    "import torch.nn.functional as F\n",
    "import torch.optim as optim\n",
    "from torch.optim import lr_scheduler\n",
    "import torchvision\n",
    "import torchvision.transforms as transforms\n",
    "import torchvision.models as models\n",
    "from torch.utils.data import sampler, TensorDataset, Dataset\n",
    "\n",
    "import math\n",
    "import os\n",
    "os.environ[\"CUDA_VISIBLE_DEVICES\"] = \"4,5\"\n",
    "import matplotlib.pyplot as plt\n",
    "%matplotlib inline\n",
    "import numpy as np\n",
    "import imgaug as ia\n",
    "import pandas as pd\n",
    "from pandas import Series\n",
    "import random\n",
    "import scipy\n",
    "import cv2\n",
    "import time\n",
    "import scipy.signal\n",
    "from scipy.stats.stats import pearsonr\n",
    "from sklearn.metrics import mean_absolute_error, r2_score"
   ]
  },
  {
   "cell_type": "markdown",
   "metadata": {},
   "source": [
    "## Meta data"
   ]
  },
  {
   "cell_type": "code",
   "execution_count": 2,
   "metadata": {},
   "outputs": [
    {
     "name": "stdout",
     "output_type": "stream",
     "text": [
      "2914\n"
     ]
    },
    {
     "data": {
      "text/html": [
       "<div>\n",
       "<style>\n",
       "    .dataframe thead tr:only-child th {\n",
       "        text-align: right;\n",
       "    }\n",
       "\n",
       "    .dataframe thead th {\n",
       "        text-align: left;\n",
       "    }\n",
       "\n",
       "    .dataframe tbody tr th {\n",
       "        vertical-align: top;\n",
       "    }\n",
       "</style>\n",
       "<table border=\"1\" class=\"dataframe\">\n",
       "  <thead>\n",
       "    <tr style=\"text-align: right;\">\n",
       "      <th></th>\n",
       "      <th>Unnamed: 0</th>\n",
       "      <th>Unnamed: 0.1</th>\n",
       "      <th>Person No</th>\n",
       "      <th>Age</th>\n",
       "      <th>Gender</th>\n",
       "      <th>Height</th>\n",
       "      <th>SYS</th>\n",
       "      <th>DIA</th>\n",
       "      <th>HR</th>\n",
       "      <th>G</th>\n",
       "      <th>...</th>\n",
       "      <th>BMI</th>\n",
       "      <th>BP_drug</th>\n",
       "      <th>DM</th>\n",
       "      <th>DM_drug</th>\n",
       "      <th>O_drug</th>\n",
       "      <th>W_cir</th>\n",
       "      <th>weight</th>\n",
       "      <th>ID</th>\n",
       "      <th>Date</th>\n",
       "      <th>Time</th>\n",
       "    </tr>\n",
       "  </thead>\n",
       "  <tbody>\n",
       "    <tr>\n",
       "      <th>0</th>\n",
       "      <td>0</td>\n",
       "      <td>1</td>\n",
       "      <td>1</td>\n",
       "      <td>60</td>\n",
       "      <td>0</td>\n",
       "      <td>156.0</td>\n",
       "      <td>90</td>\n",
       "      <td>63</td>\n",
       "      <td>77</td>\n",
       "      <td>115</td>\n",
       "      <td>...</td>\n",
       "      <td>16.6</td>\n",
       "      <td>0</td>\n",
       "      <td>0</td>\n",
       "      <td>0</td>\n",
       "      <td>0</td>\n",
       "      <td>61.5</td>\n",
       "      <td>40.5</td>\n",
       "      <td>001_1_m</td>\n",
       "      <td>20170302</td>\n",
       "      <td>1124</td>\n",
       "    </tr>\n",
       "    <tr>\n",
       "      <th>1</th>\n",
       "      <td>1</td>\n",
       "      <td>2</td>\n",
       "      <td>1</td>\n",
       "      <td>60</td>\n",
       "      <td>0</td>\n",
       "      <td>156.0</td>\n",
       "      <td>88</td>\n",
       "      <td>60</td>\n",
       "      <td>74</td>\n",
       "      <td>114</td>\n",
       "      <td>...</td>\n",
       "      <td>16.6</td>\n",
       "      <td>0</td>\n",
       "      <td>0</td>\n",
       "      <td>0</td>\n",
       "      <td>0</td>\n",
       "      <td>61.5</td>\n",
       "      <td>40.5</td>\n",
       "      <td>001_2_m</td>\n",
       "      <td>20170302</td>\n",
       "      <td>1130</td>\n",
       "    </tr>\n",
       "    <tr>\n",
       "      <th>2</th>\n",
       "      <td>2</td>\n",
       "      <td>3</td>\n",
       "      <td>2</td>\n",
       "      <td>62</td>\n",
       "      <td>0</td>\n",
       "      <td>155.0</td>\n",
       "      <td>115</td>\n",
       "      <td>78</td>\n",
       "      <td>73</td>\n",
       "      <td>108</td>\n",
       "      <td>...</td>\n",
       "      <td>24.7</td>\n",
       "      <td>0</td>\n",
       "      <td>0</td>\n",
       "      <td>0</td>\n",
       "      <td>0</td>\n",
       "      <td>80.0</td>\n",
       "      <td>59.4</td>\n",
       "      <td>002_1_m</td>\n",
       "      <td>20170302</td>\n",
       "      <td>1150</td>\n",
       "    </tr>\n",
       "    <tr>\n",
       "      <th>3</th>\n",
       "      <td>3</td>\n",
       "      <td>4</td>\n",
       "      <td>2</td>\n",
       "      <td>62</td>\n",
       "      <td>0</td>\n",
       "      <td>155.0</td>\n",
       "      <td>115</td>\n",
       "      <td>79</td>\n",
       "      <td>74</td>\n",
       "      <td>111</td>\n",
       "      <td>...</td>\n",
       "      <td>24.7</td>\n",
       "      <td>0</td>\n",
       "      <td>0</td>\n",
       "      <td>0</td>\n",
       "      <td>0</td>\n",
       "      <td>80.0</td>\n",
       "      <td>59.4</td>\n",
       "      <td>002_2_m</td>\n",
       "      <td>20170302</td>\n",
       "      <td>1154</td>\n",
       "    </tr>\n",
       "    <tr>\n",
       "      <th>4</th>\n",
       "      <td>4</td>\n",
       "      <td>5</td>\n",
       "      <td>3</td>\n",
       "      <td>53</td>\n",
       "      <td>0</td>\n",
       "      <td>157.0</td>\n",
       "      <td>147</td>\n",
       "      <td>96</td>\n",
       "      <td>77</td>\n",
       "      <td>143</td>\n",
       "      <td>...</td>\n",
       "      <td>25.4</td>\n",
       "      <td>0</td>\n",
       "      <td>0</td>\n",
       "      <td>0</td>\n",
       "      <td>1</td>\n",
       "      <td>83.0</td>\n",
       "      <td>62.7</td>\n",
       "      <td>003_1_m</td>\n",
       "      <td>20170302</td>\n",
       "      <td>1203</td>\n",
       "    </tr>\n",
       "  </tbody>\n",
       "</table>\n",
       "<p>5 rows × 21 columns</p>\n",
       "</div>"
      ],
      "text/plain": [
       "   Unnamed: 0  Unnamed: 0.1  Person No  Age  Gender  Height  SYS  DIA  HR  \\\n",
       "0           0             1          1   60       0   156.0   90   63  77   \n",
       "1           1             2          1   60       0   156.0   88   60  74   \n",
       "2           2             3          2   62       0   155.0  115   78  73   \n",
       "3           3             4          2   62       0   155.0  115   79  74   \n",
       "4           4             5          3   53       0   157.0  147   96  77   \n",
       "\n",
       "     G  ...    BMI  BP_drug  DM  DM_drug  O_drug  W_cir  weight       ID  \\\n",
       "0  115  ...   16.6        0   0        0       0   61.5    40.5  001_1_m   \n",
       "1  114  ...   16.6        0   0        0       0   61.5    40.5  001_2_m   \n",
       "2  108  ...   24.7        0   0        0       0   80.0    59.4  002_1_m   \n",
       "3  111  ...   24.7        0   0        0       0   80.0    59.4  002_2_m   \n",
       "4  143  ...   25.4        0   0        0       1   83.0    62.7  003_1_m   \n",
       "\n",
       "       Date  Time  \n",
       "0  20170302  1124  \n",
       "1  20170302  1130  \n",
       "2  20170302  1150  \n",
       "3  20170302  1154  \n",
       "4  20170302  1203  \n",
       "\n",
       "[5 rows x 21 columns]"
      ]
     },
     "execution_count": 2,
     "metadata": {},
     "output_type": "execute_result"
    }
   ],
   "source": [
    "df = pd.read_csv('/data/put_data/timliu/BG/new_IRB_summary_1457_1020.csv')\n",
    "print(df.shape[0])\n",
    "df[:5]"
   ]
  },
  {
   "cell_type": "markdown",
   "metadata": {},
   "source": [
    "## Check distribution"
   ]
  },
  {
   "cell_type": "code",
   "execution_count": 3,
   "metadata": {},
   "outputs": [
    {
     "data": {
      "image/png": "[encoded data removed]",
      "text/plain": [
       "<matplotlib.figure.Figure at 0x7f29bb425940>"
      ]
     },
     "metadata": {},
     "output_type": "display_data"
    },
    {
     "data": {
      "image/png": "[encoded data removed]",
      "text/plain": [
       "<matplotlib.figure.Figure at 0x7f29bb31af28>"
      ]
     },
     "metadata": {},
     "output_type": "display_data"
    }
   ],
   "source": [
    "from statsmodels.distributions.empirical_distribution import ECDF\n",
    "ecdf = ECDF(df.DIA.values)\n",
    "plt.plot(ecdf.x, ecdf.y)\n",
    "plt.show()\n",
    "plt.hist(df.DIA.values, bins='auto')\n",
    "plt.show()\n",
    "plt.close()"
   ]
  },
  {
   "cell_type": "markdown",
   "metadata": {},
   "source": [
    "## Signal data"
   ]
  },
  {
   "cell_type": "code",
   "execution_count": 4,
   "metadata": {
    "collapsed": true
   },
   "outputs": [],
   "source": [
    "import pickle\n",
    "with open('/data/put_data/timliu/BG/1006_data/dict_X_C10_1020_final.pickle', 'rb') as h:\n",
    "    X = pickle.load(h)"
   ]
  },
  {
   "cell_type": "markdown",
   "metadata": {},
   "source": [
    "## Training & Testing "
   ]
  },
  {
   "cell_type": "code",
   "execution_count": 5,
   "metadata": {},
   "outputs": [
    {
     "name": "stdout",
     "output_type": "stream",
     "text": [
      "2305\n",
      "609\n"
     ]
    }
   ],
   "source": [
    "# split data every-step = 10 \n",
    "ratio = 0.785\n",
    "random.seed(60)\n",
    "train_id = []\n",
    "for i in range(6, 49):\n",
    "    df_sub = df[df['G'].between(10*i, 10*(i+1), inclusive = (True, False))]\n",
    "    d_list = Series.tolist(df_sub['ID'])\n",
    "    random.shuffle(d_list)\n",
    "    train_id += d_list[:int(ratio*len(d_list))]\n",
    "train_id = list(set(train_id))\n",
    "test_id = [id_ for id_ in df['ID'].values if id_ not in train_id]\n",
    "print(len(train_id))\n",
    "print(len(test_id))"
   ]
  },
  {
   "cell_type": "markdown",
   "metadata": {},
   "source": [
    "## Changing dtype"
   ]
  },
  {
   "cell_type": "code",
   "execution_count": 6,
   "metadata": {},
   "outputs": [
    {
     "name": "stdout",
     "output_type": "stream",
     "text": [
      "True\n",
      "2\n"
     ]
    }
   ],
   "source": [
    "torch.cuda.set_device(0)\n",
    "# specify dtype\n",
    "use_cuda = torch.cuda.is_available()\n",
    "print(use_cuda)\n",
    "if use_cuda:\n",
    "    dtype = torch.cuda.FloatTensor\n",
    "else:\n",
    "    dtype = torch.FloatTensor\n",
    "print(torch.cuda.device_count())"
   ]
  },
  {
   "cell_type": "markdown",
   "metadata": {},
   "source": [
    "## Data generator"
   ]
  },
  {
   "cell_type": "code",
   "execution_count": 7,
   "metadata": {
    "collapsed": true
   },
   "outputs": [],
   "source": [
    "class GG_Dataset(Dataset):\n",
    "    def __init__(self, id_list, input_len, transform):\n",
    "        self.id_list = id_list\n",
    "        self.input_len = input_len\n",
    "        self.transform = transform\n",
    "    def __getitem__(self, index):\n",
    "        sig = X[self.id_list[index]][:40000, :5]\n",
    "        sig = scipy.signal.resample(sig, 8000, axis = 0)\n",
    "        start = random.randint(0, int(8000-1000))\n",
    "        sig = sig[start:start+1000, :]\n",
    "        label = df[df['ID'] == self.id_list[index]]['DIA'].values[0]\n",
    "        sig = np.expand_dims(sig, axis = 0)\n",
    "        return sig, label\n",
    "    def __len__(self):\n",
    "        return len(self.id_list)"
   ]
  },
  {
   "cell_type": "code",
   "execution_count": 8,
   "metadata": {},
   "outputs": [],
   "source": [
    "# sig = X['003_1'][:, :5]\n",
    "# sig = scipy.signal.resample(sig, 4000, axis = 0)\n",
    "# plt.plot(sig[:500, 0])\n",
    "# plt.show()\n",
    "# plt.close()"
   ]
  },
  {
   "cell_type": "markdown",
   "metadata": {},
   "source": [
    "## Some parameters"
   ]
  },
  {
   "cell_type": "code",
   "execution_count": 9,
   "metadata": {
    "collapsed": true
   },
   "outputs": [],
   "source": [
    "# parameter\n",
    "input_len = 1000\n",
    "batch_size = 128\n",
    "learning_rate = 5e-5\n",
    "num_epoch = 300"
   ]
  },
  {
   "cell_type": "code",
   "execution_count": 10,
   "metadata": {},
   "outputs": [],
   "source": [
    "train_MDFA_dataset = GG_Dataset(train_id, input_len, transform = True)\n",
    "test_MDFA_dataset = GG_Dataset(test_id, input_len, transform = False)\n",
    "\n",
    "trainloader = torch.utils.data.DataLoader(train_MDFA_dataset, batch_size=batch_size, shuffle=True, num_workers=4)\n",
    "testloader = torch.utils.data.DataLoader(test_MDFA_dataset, batch_size=len(test_id), shuffle=False, num_workers=4)"
   ]
  },
  {
   "cell_type": "code",
   "execution_count": 11,
   "metadata": {
    "scrolled": true
   },
   "outputs": [],
   "source": [
    "# trainloader testing\n",
    "# dataiter = iter(trainloader)\n",
    "# images, labels = dataiter.next()\n",
    "# print(images.shape)"
   ]
  },
  {
   "cell_type": "markdown",
   "metadata": {},
   "source": [
    "## Model architecture"
   ]
  },
  {
   "cell_type": "code",
   "execution_count": 12,
   "metadata": {
    "collapsed": true
   },
   "outputs": [],
   "source": [
    "class conv_block(nn.Module):\n",
    "    def __init__(self, inplane, outplane, kernel_size, stride, downsample=False):\n",
    "        super(conv_block, self).__init__()\n",
    "        self.downsample = downsample\n",
    "        self.indentity = nn.Conv2d(inplane, outplane, kernel_size=kernel_size, stride=1, bias=False, padding=(7,0))\n",
    "        self.maxpool = nn.MaxPool2d((2, 1), stride=(2, 1), ceil_mode=True)\n",
    "        self.bn1 = nn.InstanceNorm2d(inplane)\n",
    "        self.relu = nn.ReLU()\n",
    "        self.dropout = nn.Dropout2d(p=0.2)\n",
    "        self.conv1 = nn.Conv2d(inplane, outplane, kernel_size=kernel_size, stride=stride, padding=(7,0))\n",
    "        self.bn2 = nn.InstanceNorm2d(outplane)\n",
    "        self.conv2 = nn.Conv2d(outplane, outplane, kernel_size=kernel_size, stride=1, padding=(7,0))\n",
    "    def forward(self, x1):\n",
    "        if self.downsample:\n",
    "            residual = self.maxpool(x1)\n",
    "        else:\n",
    "            residual = self.indentity(x1)\n",
    "        out = self.bn1(x1)\n",
    "        out = self.relu(out)\n",
    "        out = self.dropout(out)\n",
    "        out = self.conv1(out)\n",
    "        out = self.bn2(out)\n",
    "        out = self.conv2(out)\n",
    "        out += residual\n",
    "        return out"
   ]
  },
  {
   "cell_type": "code",
   "execution_count": 13,
   "metadata": {
    "collapsed": true
   },
   "outputs": [],
   "source": [
    "class QQ_model(nn.Module):\n",
    "    def __init__(self, filters, kernel_size):\n",
    "        super(QQ_model, self).__init__()\n",
    "        self.conv_1 = nn.Conv2d(1, filters, kernel_size=kernel_size, stride=(1, 1), padding=(7,0))\n",
    "        self.bn_1 = nn.InstanceNorm2d(filters)\n",
    "        self.relu = nn.ReLU()\n",
    "        self.maxpool_1 = nn.MaxPool2d((2, 1), stride=(2, 1))\n",
    "        self.conv_2 = nn.Conv2d(filters, filters, kernel_size=kernel_size, stride=(2, 1), padding=(7,0))\n",
    "        self.bn_2 = nn.InstanceNorm2d(filters)\n",
    "        self.conv_3 = nn.Conv2d(filters, filters, kernel_size=kernel_size, stride=(1, 1), padding=(7,0))\n",
    "        self.block_1 = self.make_layer(conv_block, filters, 128, kernel_size)\n",
    "        self.block_2 = self.make_layer(conv_block, 128, 192, kernel_size)\n",
    "        self.block_3 = self.make_layer(conv_block, 192, 256, kernel_size)\n",
    "        self.block_4 = self.make_layer(conv_block, 256, 320, kernel_size)\n",
    "        self.block_5 = self.make_layer(conv_block, 320, 384, kernel_size)\n",
    "        self.block_6 = self.make_layer(conv_block, 384, 448, kernel_size)\n",
    "        self.fc = nn.Sequential(\n",
    "            nn.Linear(17920, 1024),\n",
    "            nn.ReLU(),\n",
    "            nn.Dropout(p=0.2),\n",
    "            nn.Linear(1024, 1)\n",
    "        )\n",
    "        \n",
    "    def make_layer(self, block, inplane, outplane, kernel_size):\n",
    "        out = nn.Sequential(\n",
    "            block(inplane, outplane, kernel_size, stride=(1, 1), downsample=False),\n",
    "            block(outplane, outplane, kernel_size, stride=(2, 1), downsample=True))\n",
    "        return out\n",
    "    \n",
    "    def forward(self, x1):\n",
    "        out = self.conv_1(x1)\n",
    "        out = self.bn_1(out)\n",
    "        out = self.relu(out)\n",
    "        \n",
    "        shortcut = self.maxpool_1(out)\n",
    "        out2 = self.conv_2(out)\n",
    "        out2 = self.bn_2(out2)\n",
    "        out2 = self.conv_3(out2)\n",
    "        out2 += shortcut\n",
    "        \n",
    "        out2 = self.block_1(out2)\n",
    "        out2 = self.block_2(out2)\n",
    "        out2 = self.block_3(out2)\n",
    "        out2 = self.block_4(out2)\n",
    "        out2 = self.block_5(out2)\n",
    "        out2 = self.block_6(out2)\n",
    "        out2 = out2.view(out2.size(0), -1)\n",
    "#         print(out2.size())\n",
    "        out2 = self.fc(out2)\n",
    "        return out2"
   ]
  },
  {
   "cell_type": "code",
   "execution_count": 14,
   "metadata": {
    "scrolled": true
   },
   "outputs": [],
   "source": [
    "model = QQ_model(64, (15, 1)).type(dtype)\n",
    "net = torch.nn.DataParallel(model)"
   ]
  },
  {
   "cell_type": "code",
   "execution_count": 15,
   "metadata": {
    "scrolled": true
   },
   "outputs": [],
   "source": [
    "# # # test\n",
    "# t1 = Variable(torch.rand(10, 1, 1000, 5)).type(dtype)\n",
    "# model(t1)"
   ]
  },
  {
   "cell_type": "code",
   "execution_count": 16,
   "metadata": {
    "collapsed": true
   },
   "outputs": [],
   "source": [
    "def plot_losses(loss_history1=None, loss_history2=None):\n",
    "    plt.clf()\n",
    "    fig = plt.figure()\n",
    "    ax1 = fig.add_subplot(111)\n",
    "    if loss_history1:\n",
    "        ax1.plot(loss_history1, color=\"blue\", label=\"train\")\n",
    "    if loss_history2:\n",
    "        ax1.plot(loss_history2, color=\"orange\", label=\"test\")\n",
    "    #ax2 = ax1.twinx()\n",
    "    #ax2.set_yscale('log')\n",
    "    plt.xlabel(\"epoch\") \n",
    "    plt.ylabel(\"loss\") \n",
    "    plt.legend(bbox_to_anchor=(0.8, 0.9), loc=2, borderaxespad=0.)\n",
    "    plt.title(\"loss\")\n",
    "    plt.savefig(model_dir + 'output_losses.png')\n",
    "    plt.close()"
   ]
  },
  {
   "cell_type": "markdown",
   "metadata": {},
   "source": [
    "## Optimizers & directory"
   ]
  },
  {
   "cell_type": "code",
   "execution_count": 17,
   "metadata": {},
   "outputs": [
    {
     "name": "stdout",
     "output_type": "stream",
     "text": [
      "model will be saved to  model_for_prediction/1226/andrew_d2/\n"
     ]
    }
   ],
   "source": [
    "# loss and optimizer\n",
    "criterion = nn.MSELoss()\n",
    "criterion2 = nn.L1Loss()\n",
    "optimizer = optim.Adam(model.parameters(), lr=learning_rate)\n",
    "# optimizer = optim.SGD(net.parameters(), lr=learning_rate, momentum=momentum, nesterov=True)\n",
    "\n",
    "scheduler = lr_scheduler.ReduceLROnPlateau(optimizer, 'min', factor=0.1, patience=10,verbose=True)\n",
    "# model dir\n",
    "time_str = time.strftime(\"%m%d\")\n",
    "model_dir = 'model_for_prediction/' + time_str + '/andrew_d2/' \n",
    "if not os.path.exists(model_dir):\n",
    "    os.makedirs(model_dir)\n",
    "print('model will be saved to ', model_dir)"
   ]
  },
  {
   "cell_type": "markdown",
   "metadata": {},
   "source": [
    "## Training process"
   ]
  },
  {
   "cell_type": "code",
   "execution_count": 18,
   "metadata": {},
   "outputs": [],
   "source": [
    "for i, tdata in enumerate(testloader, 0):\n",
    "    tinputs1, tlabels = tdata\n",
    "    tinputs1, tlabels = Variable(tinputs1, volatile=True).type(dtype), Variable(tlabels, volatile=True).type(dtype)"
   ]
  },
  {
   "cell_type": "code",
   "execution_count": 19,
   "metadata": {
    "scrolled": true
   },
   "outputs": [
    {
     "name": "stdout",
     "output_type": "stream",
     "text": [
      "Epoch [1/300], Train Loss:1561.113, Test Loss:217.988, Test Loss l1:12.548, Time:20.927\n",
      "Epoch [2/300], Train Loss:123.930, Test Loss:119.951, Test Loss l1:8.746, Time:15.274\n",
      "Epoch [3/300], Train Loss:113.639, Test Loss:112.392, Test Loss l1:8.382, Time:15.074\n",
      "Epoch [4/300], Train Loss:116.229, Test Loss:160.309, Test Loss l1:10.710, Time:14.941\n",
      "Epoch [5/300], Train Loss:106.787, Test Loss:206.481, Test Loss l1:12.444, Time:14.933\n",
      "Epoch [6/300], Train Loss:117.850, Test Loss:110.593, Test Loss l1:7.900, Time:15.027\n",
      "Epoch [7/300], Train Loss:112.775, Test Loss:156.210, Test Loss l1:9.483, Time:15.082\n",
      "Epoch [8/300], Train Loss:134.681, Test Loss:108.884, Test Loss l1:8.272, Time:15.153\n",
      "Epoch [9/300], Train Loss:126.048, Test Loss:248.119, Test Loss l1:13.726, Time:15.238\n",
      "Epoch [10/300], Train Loss:123.179, Test Loss:103.739, Test Loss l1:7.751, Time:15.242\n",
      "Epoch [11/300], Train Loss:111.179, Test Loss:113.868, Test Loss l1:8.643, Time:15.541\n",
      "Epoch [12/300], Train Loss:92.256, Test Loss:206.534, Test Loss l1:12.365, Time:15.225\n",
      "Epoch [13/300], Train Loss:96.058, Test Loss:213.818, Test Loss l1:11.815, Time:15.400\n",
      "Epoch [14/300], Train Loss:126.726, Test Loss:133.703, Test Loss l1:9.542, Time:15.341\n",
      "Epoch [15/300], Train Loss:93.661, Test Loss:105.673, Test Loss l1:7.659, Time:15.343\n",
      "Epoch [16/300], Train Loss:100.876, Test Loss:238.266, Test Loss l1:13.524, Time:15.452\n",
      "Epoch [17/300], Train Loss:124.642, Test Loss:124.780, Test Loss l1:8.329, Time:15.272\n",
      "Epoch [18/300], Train Loss:131.476, Test Loss:143.451, Test Loss l1:8.961, Time:15.373\n",
      "Epoch [19/300], Train Loss:130.819, Test Loss:119.814, Test Loss l1:8.130, Time:15.437\n",
      "Epoch [20/300], Train Loss:120.842, Test Loss:134.125, Test Loss l1:8.720, Time:15.528\n",
      "Epoch [21/300], Train Loss:122.937, Test Loss:102.407, Test Loss l1:7.510, Time:15.514\n",
      "Epoch [22/300], Train Loss:95.337, Test Loss:96.816, Test Loss l1:7.730, Time:15.508\n",
      "Epoch [23/300], Train Loss:91.098, Test Loss:231.412, Test Loss l1:13.217, Time:15.464\n",
      "Epoch [24/300], Train Loss:116.565, Test Loss:92.781, Test Loss l1:7.584, Time:15.546\n",
      "Epoch [25/300], Train Loss:90.064, Test Loss:117.403, Test Loss l1:8.831, Time:15.366\n",
      "Epoch [26/300], Train Loss:93.871, Test Loss:241.480, Test Loss l1:13.639, Time:15.365\n",
      "Epoch [27/300], Train Loss:104.689, Test Loss:228.084, Test Loss l1:13.173, Time:15.494\n",
      "Epoch [28/300], Train Loss:112.232, Test Loss:128.588, Test Loss l1:9.383, Time:15.543\n",
      "Epoch [29/300], Train Loss:89.373, Test Loss:99.025, Test Loss l1:7.468, Time:15.459\n",
      "Epoch [30/300], Train Loss:100.619, Test Loss:193.842, Test Loss l1:11.995, Time:15.431\n",
      "Epoch [31/300], Train Loss:123.614, Test Loss:131.851, Test Loss l1:8.788, Time:15.603\n",
      "Epoch [32/300], Train Loss:146.240, Test Loss:89.157, Test Loss l1:7.277, Time:15.454\n",
      "Epoch [33/300], Train Loss:84.469, Test Loss:154.880, Test Loss l1:10.483, Time:15.577\n",
      "Epoch [34/300], Train Loss:95.319, Test Loss:153.751, Test Loss l1:10.555, Time:15.368\n",
      "Epoch [35/300], Train Loss:96.710, Test Loss:117.027, Test Loss l1:8.226, Time:15.574\n",
      "Epoch [36/300], Train Loss:116.077, Test Loss:107.062, Test Loss l1:8.533, Time:15.592\n",
      "Epoch [37/300], Train Loss:94.645, Test Loss:79.732, Test Loss l1:6.827, Time:15.438\n",
      "Epoch [38/300], Train Loss:90.621, Test Loss:80.835, Test Loss l1:6.760, Time:15.700\n",
      "Epoch [39/300], Train Loss:84.710, Test Loss:170.684, Test Loss l1:11.142, Time:15.695\n",
      "Epoch [40/300], Train Loss:93.578, Test Loss:93.090, Test Loss l1:7.804, Time:15.496\n",
      "Epoch [41/300], Train Loss:76.450, Test Loss:75.927, Test Loss l1:6.735, Time:15.512\n",
      "Epoch [42/300], Train Loss:75.736, Test Loss:91.807, Test Loss l1:7.296, Time:15.557\n",
      "Epoch [43/300], Train Loss:101.071, Test Loss:367.002, Test Loss l1:17.383, Time:15.454\n",
      "Epoch [44/300], Train Loss:149.843, Test Loss:91.458, Test Loss l1:7.293, Time:15.506\n",
      "Epoch [45/300], Train Loss:101.826, Test Loss:91.813, Test Loss l1:7.332, Time:15.554\n",
      "Epoch [46/300], Train Loss:117.482, Test Loss:224.519, Test Loss l1:13.118, Time:15.556\n",
      "Epoch [47/300], Train Loss:132.833, Test Loss:87.210, Test Loss l1:7.193, Time:15.678\n",
      "Epoch [48/300], Train Loss:89.699, Test Loss:85.977, Test Loss l1:7.427, Time:15.428\n",
      "Epoch [49/300], Train Loss:78.638, Test Loss:82.761, Test Loss l1:6.923, Time:15.536\n",
      "Epoch [50/300], Train Loss:83.406, Test Loss:115.744, Test Loss l1:9.062, Time:15.409\n",
      "Epoch [51/300], Train Loss:79.337, Test Loss:94.021, Test Loss l1:7.969, Time:15.446\n",
      "Epoch    51: reducing learning rate of group 0 to 5.0000e-06.\n",
      "Epoch [52/300], Train Loss:90.232, Test Loss:91.684, Test Loss l1:7.395, Time:15.647\n",
      "Epoch [53/300], Train Loss:92.175, Test Loss:78.343, Test Loss l1:7.056, Time:15.435\n",
      "Epoch [54/300], Train Loss:102.746, Test Loss:107.401, Test Loss l1:8.554, Time:15.404\n",
      "Epoch [55/300], Train Loss:92.733, Test Loss:73.721, Test Loss l1:6.693, Time:15.409\n",
      "Epoch [56/300], Train Loss:81.702, Test Loss:74.210, Test Loss l1:6.736, Time:15.542\n",
      "Epoch [57/300], Train Loss:76.767, Test Loss:71.732, Test Loss l1:6.608, Time:15.463\n",
      "Epoch [58/300], Train Loss:77.298, Test Loss:83.474, Test Loss l1:7.386, Time:15.460\n",
      "Epoch [59/300], Train Loss:75.227, Test Loss:80.299, Test Loss l1:7.211, Time:15.499\n",
      "Epoch [60/300], Train Loss:73.777, Test Loss:76.768, Test Loss l1:6.989, Time:15.415\n",
      "Epoch [61/300], Train Loss:90.165, Test Loss:72.496, Test Loss l1:6.711, Time:15.487\n",
      "Epoch [62/300], Train Loss:77.727, Test Loss:87.710, Test Loss l1:7.546, Time:15.463\n",
      "Epoch [63/300], Train Loss:77.588, Test Loss:88.677, Test Loss l1:7.639, Time:15.359\n",
      "Epoch [64/300], Train Loss:75.632, Test Loss:73.646, Test Loss l1:6.824, Time:15.550\n",
      "Epoch [65/300], Train Loss:73.594, Test Loss:69.799, Test Loss l1:6.567, Time:15.585\n",
      "Epoch [66/300], Train Loss:75.452, Test Loss:78.702, Test Loss l1:7.110, Time:15.570\n",
      "Epoch [67/300], Train Loss:86.731, Test Loss:82.976, Test Loss l1:7.353, Time:15.443\n",
      "Epoch [68/300], Train Loss:75.828, Test Loss:70.850, Test Loss l1:6.628, Time:15.374\n",
      "Epoch [69/300], Train Loss:78.717, Test Loss:70.737, Test Loss l1:6.623, Time:15.691\n",
      "Epoch [70/300], Train Loss:73.117, Test Loss:82.042, Test Loss l1:7.291, Time:15.647\n",
      "Epoch [71/300], Train Loss:79.745, Test Loss:74.830, Test Loss l1:6.888, Time:15.551\n",
      "Epoch [72/300], Train Loss:72.739, Test Loss:84.336, Test Loss l1:7.382, Time:15.399\n",
      "Epoch [73/300], Train Loss:87.916, Test Loss:71.269, Test Loss l1:6.676, Time:15.552\n",
      "Epoch [74/300], Train Loss:82.069, Test Loss:86.497, Test Loss l1:7.498, Time:15.489\n",
      "Epoch [75/300], Train Loss:73.730, Test Loss:85.822, Test Loss l1:7.492, Time:15.578\n",
      "Epoch    75: reducing learning rate of group 0 to 5.0000e-07.\n",
      "Epoch [76/300], Train Loss:71.302, Test Loss:72.647, Test Loss l1:6.807, Time:15.532\n",
      "Epoch [77/300], Train Loss:69.406, Test Loss:73.356, Test Loss l1:6.848, Time:15.575\n",
      "Epoch [78/300], Train Loss:71.436, Test Loss:74.242, Test Loss l1:6.899, Time:15.460\n",
      "Epoch [79/300], Train Loss:71.555, Test Loss:73.861, Test Loss l1:6.875, Time:15.377\n",
      "Epoch [80/300], Train Loss:75.607, Test Loss:72.696, Test Loss l1:6.804, Time:15.324\n",
      "Epoch [81/300], Train Loss:72.636, Test Loss:75.267, Test Loss l1:6.954, Time:15.493\n",
      "Epoch [82/300], Train Loss:71.109, Test Loss:73.127, Test Loss l1:6.826, Time:15.442\n",
      "Epoch [83/300], Train Loss:73.763, Test Loss:75.101, Test Loss l1:6.940, Time:15.398\n",
      "Epoch [84/300], Train Loss:74.505, Test Loss:75.676, Test Loss l1:6.974, Time:15.432\n",
      "Epoch [85/300], Train Loss:75.315, Test Loss:72.313, Test Loss l1:6.780, Time:15.566\n",
      "Epoch [86/300], Train Loss:93.048, Test Loss:71.774, Test Loss l1:6.751, Time:15.448\n",
      "Epoch    86: reducing learning rate of group 0 to 5.0000e-08.\n",
      "Epoch [87/300], Train Loss:70.306, Test Loss:77.581, Test Loss l1:7.084, Time:15.379\n",
      "Epoch [88/300], Train Loss:80.641, Test Loss:77.211, Test Loss l1:7.064, Time:15.459\n",
      "Epoch [89/300], Train Loss:73.391, Test Loss:77.268, Test Loss l1:7.067, Time:15.468\n",
      "Epoch [90/300], Train Loss:80.956, Test Loss:77.083, Test Loss l1:7.057, Time:15.557\n",
      "Epoch [91/300], Train Loss:72.314, Test Loss:77.084, Test Loss l1:7.057, Time:15.364\n",
      "Epoch [92/300], Train Loss:70.451, Test Loss:76.697, Test Loss l1:7.036, Time:15.587\n",
      "Epoch [93/300], Train Loss:70.861, Test Loss:75.904, Test Loss l1:6.991, Time:15.375\n",
      "Epoch [94/300], Train Loss:78.775, Test Loss:75.411, Test Loss l1:6.964, Time:15.479\n"
     ]
    },
    {
     "name": "stdout",
     "output_type": "stream",
     "text": [
      "Epoch [95/300], Train Loss:73.046, Test Loss:75.411, Test Loss l1:6.964, Time:15.450\n",
      "Epoch [96/300], Train Loss:72.278, Test Loss:75.340, Test Loss l1:6.960, Time:15.349\n",
      "Epoch [97/300], Train Loss:71.026, Test Loss:75.004, Test Loss l1:6.941, Time:15.473\n",
      "Epoch    97: reducing learning rate of group 0 to 5.0000e-09.\n",
      "Epoch [98/300], Train Loss:81.408, Test Loss:74.892, Test Loss l1:6.934, Time:15.692\n",
      "Epoch [99/300], Train Loss:68.924, Test Loss:74.811, Test Loss l1:6.930, Time:15.514\n",
      "Epoch [100/300], Train Loss:70.878, Test Loss:74.773, Test Loss l1:6.927, Time:15.532\n",
      "Epoch [101/300], Train Loss:72.044, Test Loss:74.756, Test Loss l1:6.926, Time:15.545\n",
      "Epoch [102/300], Train Loss:72.164, Test Loss:74.719, Test Loss l1:6.924, Time:15.660\n",
      "Epoch [103/300], Train Loss:72.194, Test Loss:74.711, Test Loss l1:6.924, Time:15.535\n",
      "Epoch [104/300], Train Loss:72.471, Test Loss:74.676, Test Loss l1:6.922, Time:15.725\n",
      "Epoch [105/300], Train Loss:75.618, Test Loss:74.654, Test Loss l1:6.921, Time:15.406\n",
      "Epoch [106/300], Train Loss:69.806, Test Loss:74.602, Test Loss l1:6.918, Time:15.377\n",
      "Epoch [107/300], Train Loss:70.728, Test Loss:74.566, Test Loss l1:6.916, Time:15.338\n",
      "Epoch [108/300], Train Loss:69.577, Test Loss:74.561, Test Loss l1:6.915, Time:15.593\n",
      "Epoch [109/300], Train Loss:69.334, Test Loss:74.540, Test Loss l1:6.914, Time:15.601\n",
      "Epoch [110/300], Train Loss:71.565, Test Loss:74.512, Test Loss l1:6.912, Time:15.375\n",
      "Epoch [111/300], Train Loss:70.419, Test Loss:74.483, Test Loss l1:6.911, Time:15.505\n",
      "Epoch [112/300], Train Loss:71.684, Test Loss:74.431, Test Loss l1:6.908, Time:15.567\n",
      "Epoch [113/300], Train Loss:70.637, Test Loss:74.397, Test Loss l1:6.906, Time:15.375\n",
      "Epoch [114/300], Train Loss:72.903, Test Loss:74.388, Test Loss l1:6.905, Time:15.379\n",
      "Epoch [115/300], Train Loss:70.310, Test Loss:74.348, Test Loss l1:6.903, Time:15.456\n",
      "Epoch [116/300], Train Loss:74.492, Test Loss:74.337, Test Loss l1:6.902, Time:15.336\n",
      "Early stopping\n",
      "Finished Training\n"
     ]
    },
    {
     "data": {
      "text/plain": [
       "<matplotlib.figure.Figure at 0x7f29b3223e48>"
      ]
     },
     "metadata": {},
     "output_type": "display_data"
    }
   ],
   "source": [
    "train_loss = []\n",
    "test_loss_l1 = []\n",
    "test_loss = []\n",
    "patience = 0\n",
    "best_loss = float('Inf')\n",
    "\n",
    "# start training\n",
    "for epoch in range(num_epoch):  # loop over the dataset multiple times\n",
    "    running_loss1 = []\n",
    "    running_loss2 = []\n",
    "    running_loss3 = []\n",
    "    tStart = time.time()\n",
    "\n",
    "    for i, data in enumerate(trainloader, 0):\n",
    "        net.train(True)    \n",
    "        # get the inputs\n",
    "        inputs1, labels = data\n",
    "        # wrap them in Variable\n",
    "        inputs1, labels = Variable(inputs1).type(dtype), Variable(labels).type(dtype)\n",
    "        # zero the parameter gradients\n",
    "        optimizer.zero_grad()\n",
    "        # forward + backward + optimize\n",
    "        outputs = net(inputs1)\n",
    "        loss = criterion(outputs, labels)\n",
    "        loss.backward()\n",
    "        optimizer.step()\n",
    "        # print statistics\n",
    "        # loss\n",
    "        running_loss1.append(loss.data[0])\n",
    "\n",
    "    net.train(False)\n",
    "    toutput = net(tinputs1)\n",
    "    tloss = criterion(toutput, tlabels)\n",
    "    tloss_l1 = criterion2(toutput, tlabels)\n",
    "    running_loss2.append(tloss.data[0])\n",
    "    running_loss3.append(tloss_l1.data[0])\n",
    "\n",
    "    scheduler.step(np.mean(running_loss2))\n",
    "    \n",
    "    train_loss.append(np.mean(running_loss1))\n",
    "    test_loss.append(np.mean(running_loss2))\n",
    "    test_loss_l1.append(np.mean(running_loss3))\n",
    "    \n",
    "    tEnd = time.time()\n",
    "    \n",
    "    #statistics\n",
    "    print('Epoch [%d/%d], Train Loss:%.3f, Test Loss:%.3f, Test Loss l1:%.3f, Time:%.3f' \n",
    "                %(epoch+1, num_epoch, train_loss[-1], test_loss[-1], test_loss_l1[-1], (tEnd - tStart)))\n",
    "\n",
    "    #early stopping\n",
    "    if epoch > 20:\n",
    "        if test_loss[-1] < best_loss:\n",
    "            best_loss = test_loss[-1]\n",
    "            torch.save(net.state_dict(), model_dir + 'model.pkl')\n",
    "            patience = 0\n",
    "        else:\n",
    "            patience += 1\n",
    "            \n",
    "        if patience > 50:\n",
    "            print('Early stopping')\n",
    "            break\n",
    "        # loss history \n",
    "    if epoch % 10 == 0 and epoch != 0:\n",
    "        plot_losses(train_loss, test_loss)\n",
    "    \n",
    "print('Finished Training')"
   ]
  },
  {
   "cell_type": "markdown",
   "metadata": {},
   "source": [
    "## Model Evaluation"
   ]
  },
  {
   "cell_type": "code",
   "execution_count": 20,
   "metadata": {
    "collapsed": true
   },
   "outputs": [],
   "source": [
    "net.load_state_dict(torch.load(model_dir+ 'model.pkl'))"
   ]
  },
  {
   "cell_type": "code",
   "execution_count": 21,
   "metadata": {},
   "outputs": [
    {
     "data": {
      "text/plain": [
       "<matplotlib.figure.Figure at 0x7f29b31db358>"
      ]
     },
     "metadata": {},
     "output_type": "display_data"
    }
   ],
   "source": [
    "plot_losses(train_loss, test_loss)"
   ]
  },
  {
   "cell_type": "code",
   "execution_count": 22,
   "metadata": {
    "collapsed": true
   },
   "outputs": [],
   "source": [
    "def plot_making(true, pred, types):\n",
    "    cor = pearsonr(true, pred)[0]\n",
    "    mae = mean_absolute_error(true, pred)\n",
    "    r2 = r2_score(true, pred) \n",
    "    plt.figure(0)\n",
    "    plt.scatter(true, pred, alpha = .15, s = 20)\n",
    "    plt.xlabel('True_Y')\n",
    "    plt.ylabel('Pred_Y')\n",
    "    plt.title(\" data \\n\" + \"MAE = %4f; Cor = %4f; R2 = %4f; #samples = %d\" % (mae, cor, r2, len(true)))\n",
    "    plt.savefig(model_dir + types + \"_plot_scatter.png\" , dpi = 200)\n",
    "    plt.show()\n",
    "    plt.close()"
   ]
  },
  {
   "cell_type": "code",
   "execution_count": 23,
   "metadata": {
    "scrolled": false
   },
   "outputs": [
    {
     "data": {
      "image/png": "[encoded data removed]",
      "text/plain": [
       "<matplotlib.figure.Figure at 0x7f29b32a0780>"
      ]
     },
     "metadata": {},
     "output_type": "display_data"
    },
    {
     "name": "stdout",
     "output_type": "stream",
     "text": [
      "L1 Loss on test images: 69.79425048828125\n"
     ]
    },
    {
     "data": {
      "image/png": "[encoded data removed]",
      "text/plain": [
       "<matplotlib.figure.Figure at 0x7f29b931c5c0>"
      ]
     },
     "metadata": {},
     "output_type": "display_data"
    },
    {
     "name": "stdout",
     "output_type": "stream",
     "text": [
      "L1 Loss on test images: 70.043006294652031\n"
     ]
    }
   ],
   "source": [
    "def loss_generator(testloader, model, types):\n",
    "    test_loss = []\n",
    "    true = []\n",
    "    pred = []\n",
    "    for i, tdata in enumerate(testloader, 0):\n",
    "        tinputs1, tlabels = tdata\n",
    "        tinputs1, tlabels = Variable(tinputs1, volatile=True).type(dtype), Variable(tlabels, volatile=True).type(dtype)\n",
    "        toutput = net(tinputs1)\n",
    "        tloss = criterion(toutput, tlabels)\n",
    "        test_loss.append(tloss.data[0])\n",
    "        true.extend(tlabels.data.cpu().numpy())\n",
    "        pred.extend(toutput.data.cpu().numpy())\n",
    "    true = np.asarray(true)\n",
    "    true = np.expand_dims(true, axis=1)\n",
    "    pred = np.asarray(pred)\n",
    "    plot_making(true, pred, types = types)\n",
    "    print('L1 Loss on test images: %r' % (np.mean(test_loss)))\n",
    "    \n",
    "train_dataset = GG_Dataset(train_id, df, transform = False)\n",
    "trainloader = torch.utils.data.DataLoader(train_dataset, batch_size=batch_size, shuffle=True, num_workers=2)\n",
    "loss_generator(testloader, net.eval(), types = 'test')\n",
    "loss_generator(trainloader, net.eval(), types = 'train')"
   ]
  },
  {
   "cell_type": "code",
   "execution_count": null,
   "metadata": {
    "collapsed": true
   },
   "outputs": [],
   "source": []
  }
 ],
 "metadata": {
  "kernelspec": {
   "display_name": "Python 3",
   "language": "python",
   "name": "python3"
  },
  "language_info": {
   "codemirror_mode": {
    "name": "ipython",
    "version": 3
   },
   "file_extension": ".py",
   "mimetype": "text/x-python",
   "name": "python",
   "nbconvert_exporter": "python",
   "pygments_lexer": "ipython3",
   "version": "3.5.2"
  }
 },
 "nbformat": 4,
 "nbformat_minor": 2
}
